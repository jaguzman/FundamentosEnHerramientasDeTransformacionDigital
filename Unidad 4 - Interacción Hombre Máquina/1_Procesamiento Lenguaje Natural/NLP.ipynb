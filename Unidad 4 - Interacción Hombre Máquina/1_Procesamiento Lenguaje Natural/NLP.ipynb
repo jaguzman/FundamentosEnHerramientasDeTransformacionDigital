{
  "nbformat": 4,
  "nbformat_minor": 0,
  "metadata": {
    "colab": {
      "name": "NLP.ipynb",
      "provenance": []
    },
    "kernelspec": {
      "name": "python3",
      "display_name": "Python 3"
    }
  },
  "cells": [
    {
      "cell_type": "code",
      "metadata": {
        "id": "WcFmgmPbMY8M",
        "colab_type": "code",
        "colab": {
          "base_uri": "https://localhost:8080/",
          "height": 306
        },
        "outputId": "1ed4ebf7-86b1-4fe9-90d5-e262394e9911"
      },
      "source": [
        "import nltk\n",
        "\n",
        "nltk.download('punkt')\n",
        "\n",
        "# dividir en tokens o palabras una oración\n",
        "texto = \"Good morning Mr. Potter. Nice to meet you. We will play good tonight\"\n",
        "tokens = nltk.word_tokenize(texto)\n",
        "tokens"
      ],
      "execution_count": 2,
      "outputs": [
        {
          "output_type": "stream",
          "text": [
            "[nltk_data] Downloading package punkt to /root/nltk_data...\n",
            "[nltk_data]   Unzipping tokenizers/punkt.zip.\n"
          ],
          "name": "stdout"
        },
        {
          "output_type": "execute_result",
          "data": {
            "text/plain": [
              "['Good',\n",
              " 'morning',\n",
              " 'Mr.',\n",
              " 'Potter',\n",
              " '.',\n",
              " 'Nice',\n",
              " 'to',\n",
              " 'meet',\n",
              " 'you',\n",
              " '.',\n",
              " 'We',\n",
              " 'will',\n",
              " 'play',\n",
              " 'good',\n",
              " 'tonight']"
            ]
          },
          "metadata": {
            "tags": []
          },
          "execution_count": 2
        }
      ]
    },
    {
      "cell_type": "code",
      "metadata": {
        "id": "rXbFg4IgM0uR",
        "colab_type": "code",
        "colab": {
          "base_uri": "https://localhost:8080/",
          "height": 340
        },
        "outputId": "358ae125-fc4f-4ce5-b79c-b277411dff04"
      },
      "source": [
        "# Crear etiquetas para cada palabra. La lista de etiquetas se puede consultar aquí: https://www.ling.upenn.edu/courses/Fall_2003/ling001/penn_treebank_pos.html\n",
        "nltk.download('averaged_perceptron_tagger')\n",
        "\n",
        "tags = nltk.pos_tag(tokens)\n",
        "tags"
      ],
      "execution_count": 92,
      "outputs": [
        {
          "output_type": "stream",
          "text": [
            "[nltk_data] Downloading package averaged_perceptron_tagger to\n",
            "[nltk_data]     /root/nltk_data...\n",
            "[nltk_data]   Package averaged_perceptron_tagger is already up-to-\n",
            "[nltk_data]       date!\n"
          ],
          "name": "stdout"
        },
        {
          "output_type": "execute_result",
          "data": {
            "text/plain": [
              "[('Good', 'JJ'),\n",
              " ('morning', 'NN'),\n",
              " ('Mr.', 'NNP'),\n",
              " ('Potter', 'NNP'),\n",
              " ('.', '.'),\n",
              " ('Nice', 'NNP'),\n",
              " ('to', 'TO'),\n",
              " ('meet', 'VB'),\n",
              " ('you', 'PRP'),\n",
              " ('.', '.'),\n",
              " ('We', 'PRP'),\n",
              " ('will', 'MD'),\n",
              " ('play', 'VB'),\n",
              " ('good', 'JJ'),\n",
              " ('tonight', 'NN')]"
            ]
          },
          "metadata": {
            "tags": []
          },
          "execution_count": 92
        }
      ]
    },
    {
      "cell_type": "code",
      "metadata": {
        "id": "iB0HnPx-Onjr",
        "colab_type": "code",
        "colab": {
          "base_uri": "https://localhost:8080/",
          "height": 510
        },
        "outputId": "f1e681c0-6623-4eca-f9ad-3a0f57859f77"
      },
      "source": [
        "# Obtener sinónimos de una palabra\n",
        "from nltk.corpus import wordnet\n",
        "nltk.download('wordnet')\n",
        "\n",
        "sinonimos = wordnet.synsets(tokens[0])\n",
        "sinonimos"
      ],
      "execution_count": 93,
      "outputs": [
        {
          "output_type": "stream",
          "text": [
            "[nltk_data] Downloading package wordnet to /root/nltk_data...\n",
            "[nltk_data]   Package wordnet is already up-to-date!\n"
          ],
          "name": "stdout"
        },
        {
          "output_type": "execute_result",
          "data": {
            "text/plain": [
              "[Synset('good.n.01'),\n",
              " Synset('good.n.02'),\n",
              " Synset('good.n.03'),\n",
              " Synset('commodity.n.01'),\n",
              " Synset('good.a.01'),\n",
              " Synset('full.s.06'),\n",
              " Synset('good.a.03'),\n",
              " Synset('estimable.s.02'),\n",
              " Synset('beneficial.s.01'),\n",
              " Synset('good.s.06'),\n",
              " Synset('good.s.07'),\n",
              " Synset('adept.s.01'),\n",
              " Synset('good.s.09'),\n",
              " Synset('dear.s.02'),\n",
              " Synset('dependable.s.04'),\n",
              " Synset('good.s.12'),\n",
              " Synset('good.s.13'),\n",
              " Synset('effective.s.04'),\n",
              " Synset('good.s.15'),\n",
              " Synset('good.s.16'),\n",
              " Synset('good.s.17'),\n",
              " Synset('good.s.18'),\n",
              " Synset('good.s.19'),\n",
              " Synset('good.s.20'),\n",
              " Synset('good.s.21'),\n",
              " Synset('well.r.01'),\n",
              " Synset('thoroughly.r.02')]"
            ]
          },
          "metadata": {
            "tags": []
          },
          "execution_count": 93
        }
      ]
    },
    {
      "cell_type": "code",
      "metadata": {
        "id": "RZjB6FbaP1qO",
        "colab_type": "code",
        "colab": {
          "base_uri": "https://localhost:8080/",
          "height": 901
        },
        "outputId": "023cf8ec-c7c3-4f04-b2cc-f71ed9bc51f3"
      },
      "source": [
        "sinonimos = wordnet.synsets(tokens[-3])\n",
        "sinonimos"
      ],
      "execution_count": 94,
      "outputs": [
        {
          "output_type": "execute_result",
          "data": {
            "text/plain": [
              "[Synset('play.n.01'),\n",
              " Synset('play.n.02'),\n",
              " Synset('play.n.03'),\n",
              " Synset('maneuver.n.03'),\n",
              " Synset('play.n.05'),\n",
              " Synset('play.n.06'),\n",
              " Synset('bid.n.02'),\n",
              " Synset('play.n.08'),\n",
              " Synset('playing_period.n.01'),\n",
              " Synset('free_rein.n.01'),\n",
              " Synset('shimmer.n.01'),\n",
              " Synset('fun.n.02'),\n",
              " Synset('looseness.n.05'),\n",
              " Synset('play.n.14'),\n",
              " Synset('turn.n.03'),\n",
              " Synset('gambling.n.01'),\n",
              " Synset('play.n.17'),\n",
              " Synset('play.v.01'),\n",
              " Synset('play.v.02'),\n",
              " Synset('play.v.03'),\n",
              " Synset('act.v.03'),\n",
              " Synset('play.v.05'),\n",
              " Synset('play.v.06'),\n",
              " Synset('play.v.07'),\n",
              " Synset('act.v.05'),\n",
              " Synset('play.v.09'),\n",
              " Synset('play.v.10'),\n",
              " Synset('play.v.11'),\n",
              " Synset('play.v.12'),\n",
              " Synset('play.v.13'),\n",
              " Synset('play.v.14'),\n",
              " Synset('play.v.15'),\n",
              " Synset('play.v.16'),\n",
              " Synset('play.v.17'),\n",
              " Synset('play.v.18'),\n",
              " Synset('toy.v.02'),\n",
              " Synset('play.v.20'),\n",
              " Synset('dally.v.04'),\n",
              " Synset('play.v.22'),\n",
              " Synset('dally.v.01'),\n",
              " Synset('play.v.24'),\n",
              " Synset('act.v.10'),\n",
              " Synset('play.v.26'),\n",
              " Synset('bring.v.03'),\n",
              " Synset('play.v.28'),\n",
              " Synset('play.v.29'),\n",
              " Synset('bet.v.02'),\n",
              " Synset('play.v.31'),\n",
              " Synset('play.v.32'),\n",
              " Synset('play.v.33'),\n",
              " Synset('meet.v.10'),\n",
              " Synset('play.v.35')]"
            ]
          },
          "metadata": {
            "tags": []
          },
          "execution_count": 94
        }
      ]
    },
    {
      "cell_type": "code",
      "metadata": {
        "id": "ptHjmJfAP9ld",
        "colab_type": "code",
        "colab": {
          "base_uri": "https://localhost:8080/",
          "height": 289
        },
        "outputId": "547975b5-e4a1-4606-f813-20db6551e7c0"
      },
      "source": [
        "sinonimos = wordnet.synsets(\"sweet\")\n",
        "sinonimos"
      ],
      "execution_count": 95,
      "outputs": [
        {
          "output_type": "execute_result",
          "data": {
            "text/plain": [
              "[Synset('sweet.n.01'),\n",
              " Synset('dessert.n.01'),\n",
              " Synset('sweet.n.03'),\n",
              " Synset('sweet.n.04'),\n",
              " Synset('sweetness.n.02'),\n",
              " Synset('sweet.a.01'),\n",
              " Synset('angelic.s.03'),\n",
              " Synset('dulcet.s.02'),\n",
              " Synset('sweet.s.04'),\n",
              " Synset('gratifying.s.01'),\n",
              " Synset('odoriferous.s.03'),\n",
              " Synset('sweet.a.07'),\n",
              " Synset('fresh.a.06'),\n",
              " Synset('fresh.s.09'),\n",
              " Synset('sugared.s.01'),\n",
              " Synset('sweetly.r.01')]"
            ]
          },
          "metadata": {
            "tags": []
          },
          "execution_count": 95
        }
      ]
    },
    {
      "cell_type": "code",
      "metadata": {
        "id": "zEApbwnOQVo-",
        "colab_type": "code",
        "colab": {
          "base_uri": "https://localhost:8080/",
          "height": 35
        },
        "outputId": "44df0cf3-679d-40ea-dae9-89e66ba2e587"
      },
      "source": [
        "# podemos obtener la definición de palabras\n",
        "sinonimos[1].definition()"
      ],
      "execution_count": 96,
      "outputs": [
        {
          "output_type": "execute_result",
          "data": {
            "application/vnd.google.colaboratory.intrinsic+json": {
              "type": "string"
            },
            "text/plain": [
              "'a dish served as the last course of a meal'"
            ]
          },
          "metadata": {
            "tags": []
          },
          "execution_count": 96
        }
      ]
    },
    {
      "cell_type": "code",
      "metadata": {
        "id": "674aIJbxQiiX",
        "colab_type": "code",
        "colab": {
          "base_uri": "https://localhost:8080/",
          "height": 35
        },
        "outputId": "791be332-0307-4842-a925-30caa6d6cc0a"
      },
      "source": [
        "sinonimos[-2].definition()"
      ],
      "execution_count": 97,
      "outputs": [
        {
          "output_type": "execute_result",
          "data": {
            "application/vnd.google.colaboratory.intrinsic+json": {
              "type": "string"
            },
            "text/plain": [
              "'with sweetening added'"
            ]
          },
          "metadata": {
            "tags": []
          },
          "execution_count": 97
        }
      ]
    },
    {
      "cell_type": "code",
      "metadata": {
        "id": "rEhkuWnCQxtv",
        "colab_type": "code",
        "colab": {
          "base_uri": "https://localhost:8080/",
          "height": 35
        },
        "outputId": "b0d70472-d9bc-431d-e005-85a6f131e003"
      },
      "source": [
        "syn = wordnet.synsets(\"NLP\")\n",
        "syn[0].definition()"
      ],
      "execution_count": 98,
      "outputs": [
        {
          "output_type": "execute_result",
          "data": {
            "application/vnd.google.colaboratory.intrinsic+json": {
              "type": "string"
            },
            "text/plain": [
              "'the branch of information science that deals with natural language information'"
            ]
          },
          "metadata": {
            "tags": []
          },
          "execution_count": 98
        }
      ]
    },
    {
      "cell_type": "code",
      "metadata": {
        "id": "eMOFX-yRTATo",
        "colab_type": "code",
        "colab": {
          "base_uri": "https://localhost:8080/",
          "height": 35
        },
        "outputId": "6d29d420-967b-4447-9821-b9330592919e"
      },
      "source": [
        "# obtener la palabra primitiva con lematización\n",
        "from nltk.stem import WordNetLemmatizer\n",
        "\n",
        "lemmatizer = WordNetLemmatizer()\n",
        "\n",
        "lemmatizer.lemmatize('leaves')"
      ],
      "execution_count": 99,
      "outputs": [
        {
          "output_type": "execute_result",
          "data": {
            "application/vnd.google.colaboratory.intrinsic+json": {
              "type": "string"
            },
            "text/plain": [
              "'leaf'"
            ]
          },
          "metadata": {
            "tags": []
          },
          "execution_count": 99
        }
      ]
    },
    {
      "cell_type": "code",
      "metadata": {
        "id": "mfEfDYA9T9lm",
        "colab_type": "code",
        "colab": {
          "base_uri": "https://localhost:8080/",
          "height": 35
        },
        "outputId": "1c6624fa-706b-430f-87de-f852e8f3357d"
      },
      "source": [
        "# se puede indicar que es un verbo\n",
        "lemmatizer.lemmatize('swimming', pos='v')"
      ],
      "execution_count": 100,
      "outputs": [
        {
          "output_type": "execute_result",
          "data": {
            "application/vnd.google.colaboratory.intrinsic+json": {
              "type": "string"
            },
            "text/plain": [
              "'swim'"
            ]
          },
          "metadata": {
            "tags": []
          },
          "execution_count": 100
        }
      ]
    },
    {
      "cell_type": "code",
      "metadata": {
        "id": "i64ALSZ4UVbA",
        "colab_type": "code",
        "colab": {
          "base_uri": "https://localhost:8080/",
          "height": 1000
        },
        "outputId": "3e753125-9b10-4ab2-f27c-a3d4ae6268fe"
      },
      "source": [
        "# podemos obtener las \"stop words\" o palabras vacías, que no tienen significado\n",
        "from nltk.corpus import stopwords\n",
        "\n",
        "nltk.download('stopwords')\n",
        "en_stops = set(stopwords.words('english'))\n",
        "en_stops"
      ],
      "execution_count": 101,
      "outputs": [
        {
          "output_type": "stream",
          "text": [
            "[nltk_data] Downloading package stopwords to /root/nltk_data...\n",
            "[nltk_data]   Package stopwords is already up-to-date!\n"
          ],
          "name": "stdout"
        },
        {
          "output_type": "execute_result",
          "data": {
            "text/plain": [
              "{'a',\n",
              " 'about',\n",
              " 'above',\n",
              " 'after',\n",
              " 'again',\n",
              " 'against',\n",
              " 'ain',\n",
              " 'all',\n",
              " 'am',\n",
              " 'an',\n",
              " 'and',\n",
              " 'any',\n",
              " 'are',\n",
              " 'aren',\n",
              " \"aren't\",\n",
              " 'as',\n",
              " 'at',\n",
              " 'be',\n",
              " 'because',\n",
              " 'been',\n",
              " 'before',\n",
              " 'being',\n",
              " 'below',\n",
              " 'between',\n",
              " 'both',\n",
              " 'but',\n",
              " 'by',\n",
              " 'can',\n",
              " 'couldn',\n",
              " \"couldn't\",\n",
              " 'd',\n",
              " 'did',\n",
              " 'didn',\n",
              " \"didn't\",\n",
              " 'do',\n",
              " 'does',\n",
              " 'doesn',\n",
              " \"doesn't\",\n",
              " 'doing',\n",
              " 'don',\n",
              " \"don't\",\n",
              " 'down',\n",
              " 'during',\n",
              " 'each',\n",
              " 'few',\n",
              " 'for',\n",
              " 'from',\n",
              " 'further',\n",
              " 'had',\n",
              " 'hadn',\n",
              " \"hadn't\",\n",
              " 'has',\n",
              " 'hasn',\n",
              " \"hasn't\",\n",
              " 'have',\n",
              " 'haven',\n",
              " \"haven't\",\n",
              " 'having',\n",
              " 'he',\n",
              " 'her',\n",
              " 'here',\n",
              " 'hers',\n",
              " 'herself',\n",
              " 'him',\n",
              " 'himself',\n",
              " 'his',\n",
              " 'how',\n",
              " 'i',\n",
              " 'if',\n",
              " 'in',\n",
              " 'into',\n",
              " 'is',\n",
              " 'isn',\n",
              " \"isn't\",\n",
              " 'it',\n",
              " \"it's\",\n",
              " 'its',\n",
              " 'itself',\n",
              " 'just',\n",
              " 'll',\n",
              " 'm',\n",
              " 'ma',\n",
              " 'me',\n",
              " 'mightn',\n",
              " \"mightn't\",\n",
              " 'more',\n",
              " 'most',\n",
              " 'mustn',\n",
              " \"mustn't\",\n",
              " 'my',\n",
              " 'myself',\n",
              " 'needn',\n",
              " \"needn't\",\n",
              " 'no',\n",
              " 'nor',\n",
              " 'not',\n",
              " 'now',\n",
              " 'o',\n",
              " 'of',\n",
              " 'off',\n",
              " 'on',\n",
              " 'once',\n",
              " 'only',\n",
              " 'or',\n",
              " 'other',\n",
              " 'our',\n",
              " 'ours',\n",
              " 'ourselves',\n",
              " 'out',\n",
              " 'over',\n",
              " 'own',\n",
              " 're',\n",
              " 's',\n",
              " 'same',\n",
              " 'shan',\n",
              " \"shan't\",\n",
              " 'she',\n",
              " \"she's\",\n",
              " 'should',\n",
              " \"should've\",\n",
              " 'shouldn',\n",
              " \"shouldn't\",\n",
              " 'so',\n",
              " 'some',\n",
              " 'such',\n",
              " 't',\n",
              " 'than',\n",
              " 'that',\n",
              " \"that'll\",\n",
              " 'the',\n",
              " 'their',\n",
              " 'theirs',\n",
              " 'them',\n",
              " 'themselves',\n",
              " 'then',\n",
              " 'there',\n",
              " 'these',\n",
              " 'they',\n",
              " 'this',\n",
              " 'those',\n",
              " 'through',\n",
              " 'to',\n",
              " 'too',\n",
              " 'under',\n",
              " 'until',\n",
              " 'up',\n",
              " 've',\n",
              " 'very',\n",
              " 'was',\n",
              " 'wasn',\n",
              " \"wasn't\",\n",
              " 'we',\n",
              " 'were',\n",
              " 'weren',\n",
              " \"weren't\",\n",
              " 'what',\n",
              " 'when',\n",
              " 'where',\n",
              " 'which',\n",
              " 'while',\n",
              " 'who',\n",
              " 'whom',\n",
              " 'why',\n",
              " 'will',\n",
              " 'with',\n",
              " 'won',\n",
              " \"won't\",\n",
              " 'wouldn',\n",
              " \"wouldn't\",\n",
              " 'y',\n",
              " 'you',\n",
              " \"you'd\",\n",
              " \"you'll\",\n",
              " \"you're\",\n",
              " \"you've\",\n",
              " 'your',\n",
              " 'yours',\n",
              " 'yourself',\n",
              " 'yourselves'}"
            ]
          },
          "metadata": {
            "tags": []
          },
          "execution_count": 101
        }
      ]
    },
    {
      "cell_type": "code",
      "metadata": {
        "id": "QAJKPebtVRTe",
        "colab_type": "code",
        "colab": {
          "base_uri": "https://localhost:8080/",
          "height": 221
        },
        "outputId": "7d41d125-ffae-42f8-d570-abe89e0922fc"
      },
      "source": [
        "# eliminar las stops words de las oraciones\n",
        "\n",
        "nuevas_palabras = []\n",
        "\n",
        "for word in tokens:\n",
        "  if word not in en_stops:\n",
        "    nuevas_palabras.append(word)\n",
        "\n",
        "nuevas_palabras"
      ],
      "execution_count": 102,
      "outputs": [
        {
          "output_type": "execute_result",
          "data": {
            "text/plain": [
              "['Good',\n",
              " 'morning',\n",
              " 'Mr.',\n",
              " 'Potter',\n",
              " '.',\n",
              " 'Nice',\n",
              " 'meet',\n",
              " '.',\n",
              " 'We',\n",
              " 'play',\n",
              " 'good',\n",
              " 'tonight']"
            ]
          },
          "metadata": {
            "tags": []
          },
          "execution_count": 102
        }
      ]
    },
    {
      "cell_type": "markdown",
      "metadata": {
        "id": "lsBQoSmY0Brl",
        "colab_type": "text"
      },
      "source": [
        "\n",
        "\n",
        "**TF-IDF**"
      ]
    },
    {
      "cell_type": "code",
      "metadata": {
        "id": "eXVqlMU60IZ3",
        "colab_type": "code",
        "colab": {
          "base_uri": "https://localhost:8080/",
          "height": 456
        },
        "outputId": "dda5293d-fdbf-43be-d215-e59f34fa0606"
      },
      "source": [
        "#TF-IDF\n",
        "\n",
        "import pandas as pd\n",
        "from sklearn.feature_extraction.text import TfidfVectorizer\n",
        "\n",
        "textos = [\"La sociedad está viendo cómo poco a poco cambian los hábitos de consumo\",\n",
        "          \"La venta por Internet ha llevado al cierre de tiendas físicas y es posible que esto cambie todavía más en el futuro en lo referente al sector de la moda\",\n",
        "          \"Uno de los proyectos en desarrollo se trata de un sistema de ropa inteligente que permitiría cambiarse de ropa con solo una pequeña selección de opciones\",\n",
        "          \"El proyecto se basa en un mono que se pondría alrededor de todo el cuerpo cubriéndolo salvo la cabeza y que cambiaría de aspecto dependiendo de las opciones elegidas por el cliente\"]\n",
        "\n",
        "# Calculamos la importancia de las palabras en el documento\n",
        "vect = TfidfVectorizer()\n",
        "X = vect.fit_transform(textos)\n",
        "feature_names = vect.get_feature_names()\n",
        "\n",
        "print(vect.get_feature_names())\n",
        "\n",
        "first_document_vector= X[2]\n",
        "df = pd.DataFrame(first_document_vector.T.todense(), index=feature_names, columns=[\"tfidf\"]) \n",
        "df.sort_values(by=[\"tfidf\"],ascending=False)\n"
      ],
      "execution_count": 142,
      "outputs": [
        {
          "output_type": "stream",
          "text": [
            "['al', 'alrededor', 'aspecto', 'basa', 'cabeza', 'cambian', 'cambiarse', 'cambiaría', 'cambie', 'cierre', 'cliente', 'con', 'consumo', 'cubriéndolo', 'cuerpo', 'cómo', 'de', 'dependiendo', 'desarrollo', 'el', 'elegidas', 'en', 'es', 'esto', 'está', 'futuro', 'físicas', 'ha', 'hábitos', 'inteligente', 'internet', 'la', 'las', 'llevado', 'lo', 'los', 'moda', 'mono', 'más', 'opciones', 'pequeña', 'permitiría', 'poco', 'pondría', 'por', 'posible', 'proyecto', 'proyectos', 'que', 'referente', 'ropa', 'salvo', 'se', 'sector', 'selección', 'sistema', 'sociedad', 'solo', 'tiendas', 'todavía', 'todo', 'trata', 'un', 'una', 'uno', 'venta', 'viendo']\n"
          ],
          "name": "stdout"
        },
        {
          "output_type": "execute_result",
          "data": {
            "text/html": [
              "<div>\n",
              "<style scoped>\n",
              "    .dataframe tbody tr th:only-of-type {\n",
              "        vertical-align: middle;\n",
              "    }\n",
              "\n",
              "    .dataframe tbody tr th {\n",
              "        vertical-align: top;\n",
              "    }\n",
              "\n",
              "    .dataframe thead th {\n",
              "        text-align: right;\n",
              "    }\n",
              "</style>\n",
              "<table border=\"1\" class=\"dataframe\">\n",
              "  <thead>\n",
              "    <tr style=\"text-align: right;\">\n",
              "      <th></th>\n",
              "      <th>tfidf</th>\n",
              "    </tr>\n",
              "  </thead>\n",
              "  <tbody>\n",
              "    <tr>\n",
              "      <th>de</th>\n",
              "      <td>0.501130</td>\n",
              "    </tr>\n",
              "    <tr>\n",
              "      <th>ropa</th>\n",
              "      <td>0.384124</td>\n",
              "    </tr>\n",
              "    <tr>\n",
              "      <th>desarrollo</th>\n",
              "      <td>0.192062</td>\n",
              "    </tr>\n",
              "    <tr>\n",
              "      <th>permitiría</th>\n",
              "      <td>0.192062</td>\n",
              "    </tr>\n",
              "    <tr>\n",
              "      <th>inteligente</th>\n",
              "      <td>0.192062</td>\n",
              "    </tr>\n",
              "    <tr>\n",
              "      <th>...</th>\n",
              "      <td>...</td>\n",
              "    </tr>\n",
              "    <tr>\n",
              "      <th>internet</th>\n",
              "      <td>0.000000</td>\n",
              "    </tr>\n",
              "    <tr>\n",
              "      <th>la</th>\n",
              "      <td>0.000000</td>\n",
              "    </tr>\n",
              "    <tr>\n",
              "      <th>las</th>\n",
              "      <td>0.000000</td>\n",
              "    </tr>\n",
              "    <tr>\n",
              "      <th>alrededor</th>\n",
              "      <td>0.000000</td>\n",
              "    </tr>\n",
              "    <tr>\n",
              "      <th>viendo</th>\n",
              "      <td>0.000000</td>\n",
              "    </tr>\n",
              "  </tbody>\n",
              "</table>\n",
              "<p>67 rows × 1 columns</p>\n",
              "</div>"
            ],
            "text/plain": [
              "                tfidf\n",
              "de           0.501130\n",
              "ropa         0.384124\n",
              "desarrollo   0.192062\n",
              "permitiría   0.192062\n",
              "inteligente  0.192062\n",
              "...               ...\n",
              "internet     0.000000\n",
              "la           0.000000\n",
              "las          0.000000\n",
              "alrededor    0.000000\n",
              "viendo       0.000000\n",
              "\n",
              "[67 rows x 1 columns]"
            ]
          },
          "metadata": {
            "tags": []
          },
          "execution_count": 142
        }
      ]
    },
    {
      "cell_type": "markdown",
      "metadata": {
        "id": "0FDmATIZ0PFF",
        "colab_type": "text"
      },
      "source": [
        "**Actividad**\n",
        "\n",
        "Utiliza el ejemplo anterior para eliminar las stop words antes realizar el cálculo del TF-IDF. ¿Cómo cambia el resultado?\n",
        "\n",
        "Nota: Las stop words de español se pueden descargar de manera similar a las de inglés, así:\n",
        "stopwords.words('spanish')"
      ]
    },
    {
      "cell_type": "code",
      "metadata": {
        "id": "DyG0wZti0t9B",
        "colab_type": "code",
        "colab": {
          "base_uri": "https://localhost:8080/",
          "height": 1000
        },
        "outputId": "cbdff88f-a525-42dd-e7e8-7b86d5da795b"
      },
      "source": [
        "# podemos obtener las \"stop words\" o palabras vacías, que no tienen significado\n",
        "from nltk.corpus import stopwords\n",
        "\n",
        "nltk.download('stopwords')\n",
        "es_stops = set(stopwords.words('spanish'))\n",
        "es_stops"
      ],
      "execution_count": 3,
      "outputs": [
        {
          "output_type": "stream",
          "text": [
            "[nltk_data] Downloading package stopwords to /root/nltk_data...\n",
            "[nltk_data]   Unzipping corpora/stopwords.zip.\n"
          ],
          "name": "stdout"
        },
        {
          "output_type": "execute_result",
          "data": {
            "text/plain": [
              "{'a',\n",
              " 'al',\n",
              " 'algo',\n",
              " 'algunas',\n",
              " 'algunos',\n",
              " 'ante',\n",
              " 'antes',\n",
              " 'como',\n",
              " 'con',\n",
              " 'contra',\n",
              " 'cual',\n",
              " 'cuando',\n",
              " 'de',\n",
              " 'del',\n",
              " 'desde',\n",
              " 'donde',\n",
              " 'durante',\n",
              " 'e',\n",
              " 'el',\n",
              " 'ella',\n",
              " 'ellas',\n",
              " 'ellos',\n",
              " 'en',\n",
              " 'entre',\n",
              " 'era',\n",
              " 'erais',\n",
              " 'eran',\n",
              " 'eras',\n",
              " 'eres',\n",
              " 'es',\n",
              " 'esa',\n",
              " 'esas',\n",
              " 'ese',\n",
              " 'eso',\n",
              " 'esos',\n",
              " 'esta',\n",
              " 'estaba',\n",
              " 'estabais',\n",
              " 'estaban',\n",
              " 'estabas',\n",
              " 'estad',\n",
              " 'estada',\n",
              " 'estadas',\n",
              " 'estado',\n",
              " 'estados',\n",
              " 'estamos',\n",
              " 'estando',\n",
              " 'estar',\n",
              " 'estaremos',\n",
              " 'estará',\n",
              " 'estarán',\n",
              " 'estarás',\n",
              " 'estaré',\n",
              " 'estaréis',\n",
              " 'estaría',\n",
              " 'estaríais',\n",
              " 'estaríamos',\n",
              " 'estarían',\n",
              " 'estarías',\n",
              " 'estas',\n",
              " 'este',\n",
              " 'estemos',\n",
              " 'esto',\n",
              " 'estos',\n",
              " 'estoy',\n",
              " 'estuve',\n",
              " 'estuviera',\n",
              " 'estuvierais',\n",
              " 'estuvieran',\n",
              " 'estuvieras',\n",
              " 'estuvieron',\n",
              " 'estuviese',\n",
              " 'estuvieseis',\n",
              " 'estuviesen',\n",
              " 'estuvieses',\n",
              " 'estuvimos',\n",
              " 'estuviste',\n",
              " 'estuvisteis',\n",
              " 'estuviéramos',\n",
              " 'estuviésemos',\n",
              " 'estuvo',\n",
              " 'está',\n",
              " 'estábamos',\n",
              " 'estáis',\n",
              " 'están',\n",
              " 'estás',\n",
              " 'esté',\n",
              " 'estéis',\n",
              " 'estén',\n",
              " 'estés',\n",
              " 'fue',\n",
              " 'fuera',\n",
              " 'fuerais',\n",
              " 'fueran',\n",
              " 'fueras',\n",
              " 'fueron',\n",
              " 'fuese',\n",
              " 'fueseis',\n",
              " 'fuesen',\n",
              " 'fueses',\n",
              " 'fui',\n",
              " 'fuimos',\n",
              " 'fuiste',\n",
              " 'fuisteis',\n",
              " 'fuéramos',\n",
              " 'fuésemos',\n",
              " 'ha',\n",
              " 'habida',\n",
              " 'habidas',\n",
              " 'habido',\n",
              " 'habidos',\n",
              " 'habiendo',\n",
              " 'habremos',\n",
              " 'habrá',\n",
              " 'habrán',\n",
              " 'habrás',\n",
              " 'habré',\n",
              " 'habréis',\n",
              " 'habría',\n",
              " 'habríais',\n",
              " 'habríamos',\n",
              " 'habrían',\n",
              " 'habrías',\n",
              " 'habéis',\n",
              " 'había',\n",
              " 'habíais',\n",
              " 'habíamos',\n",
              " 'habían',\n",
              " 'habías',\n",
              " 'han',\n",
              " 'has',\n",
              " 'hasta',\n",
              " 'hay',\n",
              " 'haya',\n",
              " 'hayamos',\n",
              " 'hayan',\n",
              " 'hayas',\n",
              " 'hayáis',\n",
              " 'he',\n",
              " 'hemos',\n",
              " 'hube',\n",
              " 'hubiera',\n",
              " 'hubierais',\n",
              " 'hubieran',\n",
              " 'hubieras',\n",
              " 'hubieron',\n",
              " 'hubiese',\n",
              " 'hubieseis',\n",
              " 'hubiesen',\n",
              " 'hubieses',\n",
              " 'hubimos',\n",
              " 'hubiste',\n",
              " 'hubisteis',\n",
              " 'hubiéramos',\n",
              " 'hubiésemos',\n",
              " 'hubo',\n",
              " 'la',\n",
              " 'las',\n",
              " 'le',\n",
              " 'les',\n",
              " 'lo',\n",
              " 'los',\n",
              " 'me',\n",
              " 'mi',\n",
              " 'mis',\n",
              " 'mucho',\n",
              " 'muchos',\n",
              " 'muy',\n",
              " 'más',\n",
              " 'mí',\n",
              " 'mía',\n",
              " 'mías',\n",
              " 'mío',\n",
              " 'míos',\n",
              " 'nada',\n",
              " 'ni',\n",
              " 'no',\n",
              " 'nos',\n",
              " 'nosotras',\n",
              " 'nosotros',\n",
              " 'nuestra',\n",
              " 'nuestras',\n",
              " 'nuestro',\n",
              " 'nuestros',\n",
              " 'o',\n",
              " 'os',\n",
              " 'otra',\n",
              " 'otras',\n",
              " 'otro',\n",
              " 'otros',\n",
              " 'para',\n",
              " 'pero',\n",
              " 'poco',\n",
              " 'por',\n",
              " 'porque',\n",
              " 'que',\n",
              " 'quien',\n",
              " 'quienes',\n",
              " 'qué',\n",
              " 'se',\n",
              " 'sea',\n",
              " 'seamos',\n",
              " 'sean',\n",
              " 'seas',\n",
              " 'sentid',\n",
              " 'sentida',\n",
              " 'sentidas',\n",
              " 'sentido',\n",
              " 'sentidos',\n",
              " 'seremos',\n",
              " 'será',\n",
              " 'serán',\n",
              " 'serás',\n",
              " 'seré',\n",
              " 'seréis',\n",
              " 'sería',\n",
              " 'seríais',\n",
              " 'seríamos',\n",
              " 'serían',\n",
              " 'serías',\n",
              " 'seáis',\n",
              " 'siente',\n",
              " 'sin',\n",
              " 'sintiendo',\n",
              " 'sobre',\n",
              " 'sois',\n",
              " 'somos',\n",
              " 'son',\n",
              " 'soy',\n",
              " 'su',\n",
              " 'sus',\n",
              " 'suya',\n",
              " 'suyas',\n",
              " 'suyo',\n",
              " 'suyos',\n",
              " 'sí',\n",
              " 'también',\n",
              " 'tanto',\n",
              " 'te',\n",
              " 'tendremos',\n",
              " 'tendrá',\n",
              " 'tendrán',\n",
              " 'tendrás',\n",
              " 'tendré',\n",
              " 'tendréis',\n",
              " 'tendría',\n",
              " 'tendríais',\n",
              " 'tendríamos',\n",
              " 'tendrían',\n",
              " 'tendrías',\n",
              " 'tened',\n",
              " 'tenemos',\n",
              " 'tenga',\n",
              " 'tengamos',\n",
              " 'tengan',\n",
              " 'tengas',\n",
              " 'tengo',\n",
              " 'tengáis',\n",
              " 'tenida',\n",
              " 'tenidas',\n",
              " 'tenido',\n",
              " 'tenidos',\n",
              " 'teniendo',\n",
              " 'tenéis',\n",
              " 'tenía',\n",
              " 'teníais',\n",
              " 'teníamos',\n",
              " 'tenían',\n",
              " 'tenías',\n",
              " 'ti',\n",
              " 'tiene',\n",
              " 'tienen',\n",
              " 'tienes',\n",
              " 'todo',\n",
              " 'todos',\n",
              " 'tu',\n",
              " 'tus',\n",
              " 'tuve',\n",
              " 'tuviera',\n",
              " 'tuvierais',\n",
              " 'tuvieran',\n",
              " 'tuvieras',\n",
              " 'tuvieron',\n",
              " 'tuviese',\n",
              " 'tuvieseis',\n",
              " 'tuviesen',\n",
              " 'tuvieses',\n",
              " 'tuvimos',\n",
              " 'tuviste',\n",
              " 'tuvisteis',\n",
              " 'tuviéramos',\n",
              " 'tuviésemos',\n",
              " 'tuvo',\n",
              " 'tuya',\n",
              " 'tuyas',\n",
              " 'tuyo',\n",
              " 'tuyos',\n",
              " 'tú',\n",
              " 'un',\n",
              " 'una',\n",
              " 'uno',\n",
              " 'unos',\n",
              " 'vosotras',\n",
              " 'vosotros',\n",
              " 'vuestra',\n",
              " 'vuestras',\n",
              " 'vuestro',\n",
              " 'vuestros',\n",
              " 'y',\n",
              " 'ya',\n",
              " 'yo',\n",
              " 'él',\n",
              " 'éramos'}"
            ]
          },
          "metadata": {
            "tags": []
          },
          "execution_count": 3
        }
      ]
    },
    {
      "cell_type": "code",
      "metadata": {
        "id": "M2s-hZfYavd1",
        "colab_type": "code",
        "colab": {
          "base_uri": "https://localhost:8080/",
          "height": 85
        },
        "outputId": "5ab181b7-e0ec-42c3-c3ba-b7871a44d1c5"
      },
      "source": [
        "#TF-IDF\n",
        "\n",
        "import pandas as pd\n",
        "from sklearn.feature_extraction.text import TfidfVectorizer\n",
        "\n",
        "textos = [\"La sociedad está viendo cómo poco a poco cambian los hábitos de consumo\",\n",
        "          \"La venta por Internet ha llevado al cierre de tiendas físicas y es posible que esto cambie todavía más en el futuro en lo referente al sector de la moda\",\n",
        "          \"Uno de los proyectos en desarrollo se trata de un sistema de ropa inteligente que permitiría cambiarse de ropa con solo una pequeña selección de opciones\",\n",
        "          \"El proyecto se basa en un mono que se pondría alrededor de todo el cuerpo cubriéndolo salvo la cabeza y que cambiaría de aspecto dependiendo de las opciones elegidas por el cliente\"]\n",
        "\n",
        "new_textos = []\n",
        "\n",
        "\n",
        "for texto in textos:\n",
        "  tokensT = nltk.word_tokenize(texto)\n",
        "  nuevas_palabras = []\n",
        "  for word in tokensT:\n",
        "    if word.lower() not in es_stops:\n",
        "      nuevas_palabras.append(word.lower())\n",
        "  new_textos.append(' '.join(nuevas_palabras))\n",
        "\n",
        "new_textos\n"
      ],
      "execution_count": 140,
      "outputs": [
        {
          "output_type": "execute_result",
          "data": {
            "text/plain": [
              "['sociedad viendo cómo cambian hábitos consumo',\n",
              " 'venta internet llevado cierre tiendas físicas posible cambie todavía futuro referente sector moda',\n",
              " 'proyectos desarrollo trata sistema ropa inteligente permitiría cambiarse ropa solo pequeña selección opciones',\n",
              " 'proyecto basa mono pondría alrededor cuerpo cubriéndolo salvo cabeza cambiaría aspecto dependiendo opciones elegidas cliente']"
            ]
          },
          "metadata": {
            "tags": []
          },
          "execution_count": 140
        }
      ]
    },
    {
      "cell_type": "code",
      "metadata": {
        "id": "NCmfPaTddI4F",
        "colab_type": "code",
        "colab": {
          "base_uri": "https://localhost:8080/",
          "height": 1000
        },
        "outputId": "69e44e0c-642b-44d1-f2a3-1dcb96b29834"
      },
      "source": [
        "# Calculamos la importancia de las palabras en el documento\n",
        "vect = TfidfVectorizer()\n",
        "X = vect.fit_transform(new_textos)\n",
        "feature_names = vect.get_feature_names()\n",
        "\n",
        "print(vect.get_feature_names())\n",
        "\n",
        "first_document_vector= X[2]\n",
        "df = pd.DataFrame(first_document_vector.T.todense(), index=feature_names, columns=[\"tfidf\"]) \n",
        "df.sort_values(by=[\"tfidf\"],ascending=False)"
      ],
      "execution_count": 141,
      "outputs": [
        {
          "output_type": "stream",
          "text": [
            "['alrededor', 'aspecto', 'basa', 'cabeza', 'cambian', 'cambiarse', 'cambiaría', 'cambie', 'cierre', 'cliente', 'consumo', 'cubriéndolo', 'cuerpo', 'cómo', 'dependiendo', 'desarrollo', 'elegidas', 'futuro', 'físicas', 'hábitos', 'inteligente', 'internet', 'llevado', 'moda', 'mono', 'opciones', 'pequeña', 'permitiría', 'pondría', 'posible', 'proyecto', 'proyectos', 'referente', 'ropa', 'salvo', 'sector', 'selección', 'sistema', 'sociedad', 'solo', 'tiendas', 'todavía', 'trata', 'venta', 'viendo']\n"
          ],
          "name": "stdout"
        },
        {
          "output_type": "execute_result",
          "data": {
            "text/html": [
              "<div>\n",
              "<style scoped>\n",
              "    .dataframe tbody tr th:only-of-type {\n",
              "        vertical-align: middle;\n",
              "    }\n",
              "\n",
              "    .dataframe tbody tr th {\n",
              "        vertical-align: top;\n",
              "    }\n",
              "\n",
              "    .dataframe thead th {\n",
              "        text-align: right;\n",
              "    }\n",
              "</style>\n",
              "<table border=\"1\" class=\"dataframe\">\n",
              "  <thead>\n",
              "    <tr style=\"text-align: right;\">\n",
              "      <th></th>\n",
              "      <th>tfidf</th>\n",
              "    </tr>\n",
              "  </thead>\n",
              "  <tbody>\n",
              "    <tr>\n",
              "      <th>ropa</th>\n",
              "      <td>0.523037</td>\n",
              "    </tr>\n",
              "    <tr>\n",
              "      <th>desarrollo</th>\n",
              "      <td>0.261519</td>\n",
              "    </tr>\n",
              "    <tr>\n",
              "      <th>pequeña</th>\n",
              "      <td>0.261519</td>\n",
              "    </tr>\n",
              "    <tr>\n",
              "      <th>trata</th>\n",
              "      <td>0.261519</td>\n",
              "    </tr>\n",
              "    <tr>\n",
              "      <th>permitiría</th>\n",
              "      <td>0.261519</td>\n",
              "    </tr>\n",
              "    <tr>\n",
              "      <th>cambiarse</th>\n",
              "      <td>0.261519</td>\n",
              "    </tr>\n",
              "    <tr>\n",
              "      <th>inteligente</th>\n",
              "      <td>0.261519</td>\n",
              "    </tr>\n",
              "    <tr>\n",
              "      <th>solo</th>\n",
              "      <td>0.261519</td>\n",
              "    </tr>\n",
              "    <tr>\n",
              "      <th>sistema</th>\n",
              "      <td>0.261519</td>\n",
              "    </tr>\n",
              "    <tr>\n",
              "      <th>selección</th>\n",
              "      <td>0.261519</td>\n",
              "    </tr>\n",
              "    <tr>\n",
              "      <th>proyectos</th>\n",
              "      <td>0.261519</td>\n",
              "    </tr>\n",
              "    <tr>\n",
              "      <th>opciones</th>\n",
              "      <td>0.206184</td>\n",
              "    </tr>\n",
              "    <tr>\n",
              "      <th>pondría</th>\n",
              "      <td>0.000000</td>\n",
              "    </tr>\n",
              "    <tr>\n",
              "      <th>posible</th>\n",
              "      <td>0.000000</td>\n",
              "    </tr>\n",
              "    <tr>\n",
              "      <th>proyecto</th>\n",
              "      <td>0.000000</td>\n",
              "    </tr>\n",
              "    <tr>\n",
              "      <th>alrededor</th>\n",
              "      <td>0.000000</td>\n",
              "    </tr>\n",
              "    <tr>\n",
              "      <th>referente</th>\n",
              "      <td>0.000000</td>\n",
              "    </tr>\n",
              "    <tr>\n",
              "      <th>mono</th>\n",
              "      <td>0.000000</td>\n",
              "    </tr>\n",
              "    <tr>\n",
              "      <th>sector</th>\n",
              "      <td>0.000000</td>\n",
              "    </tr>\n",
              "    <tr>\n",
              "      <th>sociedad</th>\n",
              "      <td>0.000000</td>\n",
              "    </tr>\n",
              "    <tr>\n",
              "      <th>tiendas</th>\n",
              "      <td>0.000000</td>\n",
              "    </tr>\n",
              "    <tr>\n",
              "      <th>todavía</th>\n",
              "      <td>0.000000</td>\n",
              "    </tr>\n",
              "    <tr>\n",
              "      <th>venta</th>\n",
              "      <td>0.000000</td>\n",
              "    </tr>\n",
              "    <tr>\n",
              "      <th>salvo</th>\n",
              "      <td>0.000000</td>\n",
              "    </tr>\n",
              "    <tr>\n",
              "      <th>llevado</th>\n",
              "      <td>0.000000</td>\n",
              "    </tr>\n",
              "    <tr>\n",
              "      <th>moda</th>\n",
              "      <td>0.000000</td>\n",
              "    </tr>\n",
              "    <tr>\n",
              "      <th>aspecto</th>\n",
              "      <td>0.000000</td>\n",
              "    </tr>\n",
              "    <tr>\n",
              "      <th>basa</th>\n",
              "      <td>0.000000</td>\n",
              "    </tr>\n",
              "    <tr>\n",
              "      <th>cabeza</th>\n",
              "      <td>0.000000</td>\n",
              "    </tr>\n",
              "    <tr>\n",
              "      <th>cambian</th>\n",
              "      <td>0.000000</td>\n",
              "    </tr>\n",
              "    <tr>\n",
              "      <th>cambiaría</th>\n",
              "      <td>0.000000</td>\n",
              "    </tr>\n",
              "    <tr>\n",
              "      <th>cambie</th>\n",
              "      <td>0.000000</td>\n",
              "    </tr>\n",
              "    <tr>\n",
              "      <th>cierre</th>\n",
              "      <td>0.000000</td>\n",
              "    </tr>\n",
              "    <tr>\n",
              "      <th>cliente</th>\n",
              "      <td>0.000000</td>\n",
              "    </tr>\n",
              "    <tr>\n",
              "      <th>consumo</th>\n",
              "      <td>0.000000</td>\n",
              "    </tr>\n",
              "    <tr>\n",
              "      <th>cubriéndolo</th>\n",
              "      <td>0.000000</td>\n",
              "    </tr>\n",
              "    <tr>\n",
              "      <th>cuerpo</th>\n",
              "      <td>0.000000</td>\n",
              "    </tr>\n",
              "    <tr>\n",
              "      <th>cómo</th>\n",
              "      <td>0.000000</td>\n",
              "    </tr>\n",
              "    <tr>\n",
              "      <th>dependiendo</th>\n",
              "      <td>0.000000</td>\n",
              "    </tr>\n",
              "    <tr>\n",
              "      <th>elegidas</th>\n",
              "      <td>0.000000</td>\n",
              "    </tr>\n",
              "    <tr>\n",
              "      <th>futuro</th>\n",
              "      <td>0.000000</td>\n",
              "    </tr>\n",
              "    <tr>\n",
              "      <th>físicas</th>\n",
              "      <td>0.000000</td>\n",
              "    </tr>\n",
              "    <tr>\n",
              "      <th>hábitos</th>\n",
              "      <td>0.000000</td>\n",
              "    </tr>\n",
              "    <tr>\n",
              "      <th>internet</th>\n",
              "      <td>0.000000</td>\n",
              "    </tr>\n",
              "    <tr>\n",
              "      <th>viendo</th>\n",
              "      <td>0.000000</td>\n",
              "    </tr>\n",
              "  </tbody>\n",
              "</table>\n",
              "</div>"
            ],
            "text/plain": [
              "                tfidf\n",
              "ropa         0.523037\n",
              "desarrollo   0.261519\n",
              "pequeña      0.261519\n",
              "trata        0.261519\n",
              "permitiría   0.261519\n",
              "cambiarse    0.261519\n",
              "inteligente  0.261519\n",
              "solo         0.261519\n",
              "sistema      0.261519\n",
              "selección    0.261519\n",
              "proyectos    0.261519\n",
              "opciones     0.206184\n",
              "pondría      0.000000\n",
              "posible      0.000000\n",
              "proyecto     0.000000\n",
              "alrededor    0.000000\n",
              "referente    0.000000\n",
              "mono         0.000000\n",
              "sector       0.000000\n",
              "sociedad     0.000000\n",
              "tiendas      0.000000\n",
              "todavía      0.000000\n",
              "venta        0.000000\n",
              "salvo        0.000000\n",
              "llevado      0.000000\n",
              "moda         0.000000\n",
              "aspecto      0.000000\n",
              "basa         0.000000\n",
              "cabeza       0.000000\n",
              "cambian      0.000000\n",
              "cambiaría    0.000000\n",
              "cambie       0.000000\n",
              "cierre       0.000000\n",
              "cliente      0.000000\n",
              "consumo      0.000000\n",
              "cubriéndolo  0.000000\n",
              "cuerpo       0.000000\n",
              "cómo         0.000000\n",
              "dependiendo  0.000000\n",
              "elegidas     0.000000\n",
              "futuro       0.000000\n",
              "físicas      0.000000\n",
              "hábitos      0.000000\n",
              "internet     0.000000\n",
              "viendo       0.000000"
            ]
          },
          "metadata": {
            "tags": []
          },
          "execution_count": 141
        }
      ]
    },
    {
      "cell_type": "code",
      "metadata": {
        "id": "AbZlBt6L5IBj",
        "colab_type": "code",
        "colab": {
          "base_uri": "https://localhost:8080/",
          "height": 159
        },
        "outputId": "c3fbe805-142d-4eb4-f73a-bb673aad2d60"
      },
      "source": [
        "import pandas as pd\n",
        "from sklearn.feature_extraction.text import TfidfVectorizer\n",
        "\n",
        "new_textos = [\"vivir feliz\", \"feliz vivir pleno\"]\n",
        "# Calculamos la importancia de las palabras en el documento\n",
        "vect = TfidfVectorizer()\n",
        "X = vect.fit_transform(new_textos)\n",
        "feature_names = vect.get_feature_names()\n",
        "\n",
        "print(vect.get_feature_names())\n",
        "\n",
        "first_document_vector= X[1]\n",
        "df = pd.DataFrame(first_document_vector.T.todense(), index=feature_names, columns=[\"tfidf\"]) \n",
        "df.sort_values(by=[\"tfidf\"],ascending=False)"
      ],
      "execution_count": 7,
      "outputs": [
        {
          "output_type": "stream",
          "text": [
            "['feliz', 'pleno', 'vivir']\n"
          ],
          "name": "stdout"
        },
        {
          "output_type": "execute_result",
          "data": {
            "text/html": [
              "<div>\n",
              "<style scoped>\n",
              "    .dataframe tbody tr th:only-of-type {\n",
              "        vertical-align: middle;\n",
              "    }\n",
              "\n",
              "    .dataframe tbody tr th {\n",
              "        vertical-align: top;\n",
              "    }\n",
              "\n",
              "    .dataframe thead th {\n",
              "        text-align: right;\n",
              "    }\n",
              "</style>\n",
              "<table border=\"1\" class=\"dataframe\">\n",
              "  <thead>\n",
              "    <tr style=\"text-align: right;\">\n",
              "      <th></th>\n",
              "      <th>tfidf</th>\n",
              "    </tr>\n",
              "  </thead>\n",
              "  <tbody>\n",
              "    <tr>\n",
              "      <th>pleno</th>\n",
              "      <td>0.704909</td>\n",
              "    </tr>\n",
              "    <tr>\n",
              "      <th>feliz</th>\n",
              "      <td>0.501549</td>\n",
              "    </tr>\n",
              "    <tr>\n",
              "      <th>vivir</th>\n",
              "      <td>0.501549</td>\n",
              "    </tr>\n",
              "  </tbody>\n",
              "</table>\n",
              "</div>"
            ],
            "text/plain": [
              "          tfidf\n",
              "pleno  0.704909\n",
              "feliz  0.501549\n",
              "vivir  0.501549"
            ]
          },
          "metadata": {
            "tags": []
          },
          "execution_count": 7
        }
      ]
    }
  ]
}