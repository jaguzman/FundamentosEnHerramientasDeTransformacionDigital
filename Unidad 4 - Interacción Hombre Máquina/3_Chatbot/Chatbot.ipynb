{
  "nbformat": 4,
  "nbformat_minor": 0,
  "metadata": {
    "colab": {
      "name": "Chatbot.ipynb",
      "provenance": []
    },
    "kernelspec": {
      "name": "python3",
      "display_name": "Python 3"
    }
  },
  "cells": [
    {
      "cell_type": "code",
      "metadata": {
        "id": "UBECZZ1SqoOn",
        "colab_type": "code",
        "colab": {
          "base_uri": "https://localhost:8080/",
          "height": 972
        },
        "outputId": "1da1f6db-81f4-425d-fba6-49811500b7f5"
      },
      "source": [
        "!pip install chatterbot\n",
        "!pip install chatterbot_corpus"
      ],
      "execution_count": 86,
      "outputs": [
        {
          "output_type": "stream",
          "text": [
            "Requirement already satisfied: chatterbot in /usr/local/lib/python3.6/dist-packages (1.0.5)\n",
            "Requirement already satisfied: nltk<4.0,>=3.2 in /usr/local/lib/python3.6/dist-packages (from chatterbot) (3.2.5)\n",
            "Requirement already satisfied: pytz in /usr/local/lib/python3.6/dist-packages (from chatterbot) (2018.9)\n",
            "Requirement already satisfied: pymongo<4.0,>=3.3 in /usr/local/lib/python3.6/dist-packages (from chatterbot) (3.11.0)\n",
            "Requirement already satisfied: sqlalchemy<1.3,>=1.2 in /usr/local/lib/python3.6/dist-packages (from chatterbot) (1.2.19)\n",
            "Requirement already satisfied: mathparse<0.2,>=0.1 in /usr/local/lib/python3.6/dist-packages (from chatterbot) (0.1.2)\n",
            "Processing /root/.cache/pip/wheels/d9/45/dd/65f0b38450c47cf7e5312883deb97d065e030c5cca0a365030/PyYAML-5.1.2-cp36-cp36m-linux_x86_64.whl\n",
            "Requirement already satisfied: python-dateutil<2.8,>=2.7 in /usr/local/lib/python3.6/dist-packages (from chatterbot) (2.7.5)\n",
            "Requirement already satisfied: spacy<2.2,>=2.1 in /usr/local/lib/python3.6/dist-packages (from chatterbot) (2.1.9)\n",
            "Requirement already satisfied: pint>=0.8.1 in /usr/local/lib/python3.6/dist-packages (from chatterbot) (0.14)\n",
            "Requirement already satisfied: six in /usr/local/lib/python3.6/dist-packages (from nltk<4.0,>=3.2->chatterbot) (1.15.0)\n",
            "Requirement already satisfied: srsly<1.1.0,>=0.0.6 in /usr/local/lib/python3.6/dist-packages (from spacy<2.2,>=2.1->chatterbot) (1.0.2)\n",
            "Requirement already satisfied: blis<0.3.0,>=0.2.2 in /usr/local/lib/python3.6/dist-packages (from spacy<2.2,>=2.1->chatterbot) (0.2.4)\n",
            "Requirement already satisfied: numpy>=1.15.0 in /usr/local/lib/python3.6/dist-packages (from spacy<2.2,>=2.1->chatterbot) (1.18.5)\n",
            "Requirement already satisfied: cymem<2.1.0,>=2.0.2 in /usr/local/lib/python3.6/dist-packages (from spacy<2.2,>=2.1->chatterbot) (2.0.3)\n",
            "Requirement already satisfied: plac<1.0.0,>=0.9.6 in /usr/local/lib/python3.6/dist-packages (from spacy<2.2,>=2.1->chatterbot) (0.9.6)\n",
            "Requirement already satisfied: wasabi<1.1.0,>=0.2.0 in /usr/local/lib/python3.6/dist-packages (from spacy<2.2,>=2.1->chatterbot) (0.7.1)\n",
            "Requirement already satisfied: preshed<2.1.0,>=2.0.1 in /usr/local/lib/python3.6/dist-packages (from spacy<2.2,>=2.1->chatterbot) (2.0.1)\n",
            "Requirement already satisfied: murmurhash<1.1.0,>=0.28.0 in /usr/local/lib/python3.6/dist-packages (from spacy<2.2,>=2.1->chatterbot) (1.0.2)\n",
            "Requirement already satisfied: thinc<7.1.0,>=7.0.8 in /usr/local/lib/python3.6/dist-packages (from spacy<2.2,>=2.1->chatterbot) (7.0.8)\n",
            "Requirement already satisfied: requests<3.0.0,>=2.13.0 in /usr/local/lib/python3.6/dist-packages (from spacy<2.2,>=2.1->chatterbot) (2.23.0)\n",
            "Requirement already satisfied: setuptools in /usr/local/lib/python3.6/dist-packages (from pint>=0.8.1->chatterbot) (49.2.0)\n",
            "Requirement already satisfied: importlib-metadata; python_version < \"3.8\" in /usr/local/lib/python3.6/dist-packages (from pint>=0.8.1->chatterbot) (1.7.0)\n",
            "Requirement already satisfied: packaging in /usr/local/lib/python3.6/dist-packages (from pint>=0.8.1->chatterbot) (20.4)\n",
            "Requirement already satisfied: tqdm<5.0.0,>=4.10.0 in /usr/local/lib/python3.6/dist-packages (from thinc<7.1.0,>=7.0.8->spacy<2.2,>=2.1->chatterbot) (4.41.1)\n",
            "Requirement already satisfied: certifi>=2017.4.17 in /usr/local/lib/python3.6/dist-packages (from requests<3.0.0,>=2.13.0->spacy<2.2,>=2.1->chatterbot) (2020.6.20)\n",
            "Requirement already satisfied: idna<3,>=2.5 in /usr/local/lib/python3.6/dist-packages (from requests<3.0.0,>=2.13.0->spacy<2.2,>=2.1->chatterbot) (2.10)\n",
            "Requirement already satisfied: urllib3!=1.25.0,!=1.25.1,<1.26,>=1.21.1 in /usr/local/lib/python3.6/dist-packages (from requests<3.0.0,>=2.13.0->spacy<2.2,>=2.1->chatterbot) (1.24.3)\n",
            "Requirement already satisfied: chardet<4,>=3.0.2 in /usr/local/lib/python3.6/dist-packages (from requests<3.0.0,>=2.13.0->spacy<2.2,>=2.1->chatterbot) (3.0.4)\n",
            "Requirement already satisfied: zipp>=0.5 in /usr/local/lib/python3.6/dist-packages (from importlib-metadata; python_version < \"3.8\"->pint>=0.8.1->chatterbot) (3.1.0)\n",
            "Requirement already satisfied: pyparsing>=2.0.2 in /usr/local/lib/python3.6/dist-packages (from packaging->pint>=0.8.1->chatterbot) (2.4.7)\n",
            "\u001b[31mERROR: chatterbot-corpus 1.2.0 has requirement PyYAML<4.0,>=3.12, but you'll have pyyaml 5.1.2 which is incompatible.\u001b[0m\n",
            "Installing collected packages: pyyaml\n",
            "  Found existing installation: PyYAML 3.13\n",
            "    Uninstalling PyYAML-3.13:\n",
            "      Successfully uninstalled PyYAML-3.13\n",
            "Successfully installed pyyaml-5.1.2\n"
          ],
          "name": "stdout"
        },
        {
          "output_type": "display_data",
          "data": {
            "application/vnd.colab-display-data+json": {
              "pip_warning": {
                "packages": [
                  "yaml"
                ]
              }
            }
          },
          "metadata": {
            "tags": []
          }
        },
        {
          "output_type": "stream",
          "text": [
            "Requirement already satisfied: chatterbot_corpus in /usr/local/lib/python3.6/dist-packages (1.2.0)\n",
            "Processing /root/.cache/pip/wheels/ad/da/0c/74eb680767247273e2cf2723482cb9c924fe70af57c334513f/PyYAML-3.13-cp36-cp36m-linux_x86_64.whl\n",
            "\u001b[31mERROR: chatterbot 1.0.5 has requirement pyyaml<5.2,>=5.1, but you'll have pyyaml 3.13 which is incompatible.\u001b[0m\n",
            "Installing collected packages: PyYAML\n",
            "  Found existing installation: PyYAML 5.1.2\n",
            "    Uninstalling PyYAML-5.1.2:\n",
            "      Successfully uninstalled PyYAML-5.1.2\n",
            "Successfully installed PyYAML-3.13\n"
          ],
          "name": "stdout"
        },
        {
          "output_type": "display_data",
          "data": {
            "application/vnd.colab-display-data+json": {
              "pip_warning": {
                "packages": [
                  "yaml"
                ]
              }
            }
          },
          "metadata": {
            "tags": []
          }
        }
      ]
    },
    {
      "cell_type": "code",
      "metadata": {
        "id": "tChz4fWmqjuN",
        "colab_type": "code",
        "colab": {
          "base_uri": "https://localhost:8080/",
          "height": 119
        },
        "outputId": "71fed7ae-5e67-417a-c919-b7d96e5f4cb1"
      },
      "source": [
        "from chatterbot import ChatBot\n",
        "chatbot = ChatBot(\"Watson Jr.\")"
      ],
      "execution_count": 122,
      "outputs": [
        {
          "output_type": "stream",
          "text": [
            "[nltk_data] Downloading package stopwords to /root/nltk_data...\n",
            "[nltk_data]   Package stopwords is already up-to-date!\n",
            "[nltk_data] Downloading package averaged_perceptron_tagger to\n",
            "[nltk_data]     /root/nltk_data...\n",
            "[nltk_data]   Package averaged_perceptron_tagger is already up-to-\n",
            "[nltk_data]       date!\n"
          ],
          "name": "stdout"
        }
      ]
    },
    {
      "cell_type": "code",
      "metadata": {
        "id": "3x_BFK7KrU8D",
        "colab_type": "code",
        "colab": {
          "base_uri": "https://localhost:8080/",
          "height": 34
        },
        "outputId": "8fcd6caf-bc44-4ad8-b3e4-98b552eec1ae"
      },
      "source": [
        "# Entrenamos el chatbot con un ejemplo de conversación\n",
        "\n",
        "from chatterbot.trainers import ListTrainer\n",
        "\n",
        "trainer = ListTrainer(chatbot)\n",
        "\n",
        "trainer.train([\n",
        "    \"hola\",\n",
        "    \"cómo estás?\",\n",
        "    \"bien, y tu?\",\n",
        "    \"bien gracias. ¿Qué te trae hoy por acá?\",\n",
        "    \"adiós\",\n",
        "    \"adiós\"\n",
        "])"
      ],
      "execution_count": 123,
      "outputs": [
        {
          "output_type": "stream",
          "text": [
            "List Trainer: [####################] 100%\n"
          ],
          "name": "stdout"
        }
      ]
    },
    {
      "cell_type": "code",
      "metadata": {
        "id": "nRxFrnnY8emq",
        "colab_type": "code",
        "colab": {}
      },
      "source": [
        "def conversar():\n",
        "  entradaUser = input(\"Dime algo \")\n",
        "\n",
        "  while(entradaUser != 'adiós'):\n",
        "    response = chatbot.get_response(entradaUser)\n",
        "    print(response)\n",
        "    entradaUser = input()"
      ],
      "execution_count": 124,
      "outputs": []
    },
    {
      "cell_type": "code",
      "metadata": {
        "id": "B9LGI6PG-xRy",
        "colab_type": "code",
        "colab": {
          "base_uri": "https://localhost:8080/",
          "height": 34
        },
        "outputId": "f36b5c9d-66e5-4430-d73a-56f53dd4cc52"
      },
      "source": [
        "# 1. Ingresa hola. Luego ingresa bien, y tu?. Finaliza con adiós\n",
        "# 2. Corre de nuevo la celda y copia \"bien y tu\" en vez de \"bien, y tu?\"\n",
        "# 3. Corre de nuevo la celda y copia \"bien y usted\" en vez de \"bien, y tu?\"\n",
        "\n",
        "conversar()"
      ],
      "execution_count": 128,
      "outputs": [
        {
          "output_type": "stream",
          "text": [
            "Dime algo adiós\n"
          ],
          "name": "stdout"
        }
      ]
    },
    {
      "cell_type": "code",
      "metadata": {
        "id": "VzjoSpz6-AIJ",
        "colab_type": "code",
        "colab": {
          "base_uri": "https://localhost:8080/",
          "height": 34
        },
        "outputId": "e593f025-d8bc-4fe7-edfa-6ad0f148ee64"
      },
      "source": [
        "# Debemos enseñarle que para la frase \"bien y usted\" debe responder \"Bien gracias. ¿Qué te trae hoy por acá?\"\n",
        "# Entrenamos de nuevo\n",
        "trainer.train([\n",
        "  \"bien y usted\",\n",
        "  \"bien gracias. ¿Qué te trae hoy por acá?\"\n",
        "])"
      ],
      "execution_count": 105,
      "outputs": [
        {
          "output_type": "stream",
          "text": [
            "List Trainer: [####################] 100%\n"
          ],
          "name": "stdout"
        }
      ]
    },
    {
      "cell_type": "code",
      "metadata": {
        "id": "QcfU_DIj-hiZ",
        "colab_type": "code",
        "colab": {
          "base_uri": "https://localhost:8080/",
          "height": 102
        },
        "outputId": "ccc0726d-02d1-4610-8025-dd9789f85738"
      },
      "source": [
        "# Corre la celda y copia \"bien y usted\" en vez de \"bien, y tu?\"\n",
        "conversar()"
      ],
      "execution_count": 109,
      "outputs": [
        {
          "output_type": "stream",
          "text": [
            "Dime algo hola\n",
            "Cómo estás?\n",
            "bien y usted\n",
            "Bien gracias. ¿Qué te trae hoy por acá?\n",
            "adiós\n"
          ],
          "name": "stdout"
        }
      ]
    },
    {
      "cell_type": "code",
      "metadata": {
        "id": "wmQjSq2B7g6_",
        "colab_type": "code",
        "colab": {
          "base_uri": "https://localhost:8080/",
          "height": 221
        },
        "outputId": "a8830730-01e7-4801-bb79-394cdd33dc70"
      },
      "source": [
        "trainer.train([\n",
        "    \"necesito ayuda\",\n",
        "    \"tenemos muchos servicios a tu disposición. En cual estás interesado?\",\n",
        "    \"que servicios tienes?\",\n",
        "    \"solicitud de créditos y tarjetas\",\n",
        "])\n",
        "\n",
        "conversar()\n",
        "\n",
        "# Realiza todo el flujo de la conversación \"hola\", \"bien y tu\" hasta que el bot responda \"Bien gracias. ¿Qué te trae hoy por acá?\".\n",
        "# Luego ingresa \"necesito ayuda\" y posteriormente \"que servicios tienes?\""
      ],
      "execution_count": 111,
      "outputs": [
        {
          "output_type": "stream",
          "text": [
            "List Trainer: [####################] 100%\n",
            "Dime algo hola\n",
            "Cómo estás?\n",
            "bien y tu\n",
            "Bien gracias. ¿Qué te trae hoy por acá?\n",
            "necesito ayuda\n",
            "hola\n",
            "Necesito ayuda\n",
            "Tenemos muchos servicios a tu disposición. En cual estás interesado?\n",
            "que servicios tienes?\n",
            "Solicitud de créditos y tarjetas\n",
            "adiós\n"
          ],
          "name": "stdout"
        }
      ]
    },
    {
      "cell_type": "code",
      "metadata": {
        "id": "3rRmQaYyAyfl",
        "colab_type": "code",
        "colab": {
          "base_uri": "https://localhost:8080/",
          "height": 136
        },
        "outputId": "642d8a4f-ea7c-4ef8-8247-744783c9ac21"
      },
      "source": [
        "# ahora ingresa \"necesito ayuda\" y posteriormente \"cuales servicios\"\n",
        "conversar()\n",
        "\n",
        "# como puedes ver, el bot no puede reconocer adecuadamente. Realicemos una fase de aprendizaje"
      ],
      "execution_count": 112,
      "outputs": [
        {
          "output_type": "stream",
          "text": [
            "Dime algo necesito ayuda\n",
            "que servicios tienes?\n",
            "Necesito ayuda\n",
            "Tenemos muchos servicios a tu disposición. En cual estás interesado?\n",
            "cuales servicios\n",
            "adiós\n",
            "adiós\n"
          ],
          "name": "stdout"
        }
      ]
    },
    {
      "cell_type": "code",
      "metadata": {
        "id": "iEfRHZf_rcDt",
        "colab_type": "code",
        "colab": {}
      },
      "source": [
        "from chatterbot.conversation import Statement\n",
        "\n",
        "def conversar2():\n",
        "  entradaUser = input(\"Dime algo \")\n",
        "\n",
        "  while entradaUser != \"adiós\":\n",
        "    response = chatbot.get_response(entradaUser)\n",
        "    print(response)\n",
        "\n",
        "    print(\"¿Está bien lo que respondí?\")\n",
        "    confirmacion = input(\"1. Si, 2. No \")\n",
        "    if int(confirmacion) == 1:\n",
        "      print(\"Soy muy inteligente\")\n",
        "    else:\n",
        "      retro = input(\"¿Qué debería haber dicho?\")\n",
        "      trainer.train([entradaUser, retro])\n",
        "      print(\"Lo tendré presente para la próxima!\")\n",
        "    print()\n",
        "    entradaUser = input(\"Dime algo \")"
      ],
      "execution_count": 117,
      "outputs": []
    },
    {
      "cell_type": "code",
      "metadata": {
        "id": "WpevWOZRByXE",
        "colab_type": "code",
        "colab": {
          "base_uri": "https://localhost:8080/",
          "height": 374
        },
        "outputId": "4706d918-2e3a-4d92-bdfb-820b17457406"
      },
      "source": [
        "# Corre la celda e ingresa \"cuales servicios\", luego corrige al bot indicando que debe responder \"solicitud de créditos y tarjetas\"\n",
        "conversar2()"
      ],
      "execution_count": 119,
      "outputs": [
        {
          "output_type": "stream",
          "text": [
            "Dime algo bien y usted\n",
            "Bien gracias. ¿Qué te trae hoy por acá?\n",
            "¿Está bien lo que respondí?\n",
            "1. Si, 2. No 1\n",
            "Soy muy inteligente\n",
            "\n",
            "Dime algo cuales servicios\n",
            "Cómo estás?\n",
            "¿Está bien lo que respondí?\n",
            "1. Si, 2. No 2\n",
            "¿Qué debería haber dicho?solicitud de créditos y tarjeta\n",
            "List Trainer: [####################] 100%\n",
            "Lo tendré presente para la próxima!\n",
            "\n",
            "Dime algo cuales servicios\n",
            "solicitud de créditos y tarjeta\n",
            "¿Está bien lo que respondí?\n",
            "1. Si, 2. No 1\n",
            "Soy muy inteligente\n",
            "\n",
            "Dime algo adiós\n"
          ],
          "name": "stdout"
        }
      ]
    },
    {
      "cell_type": "code",
      "metadata": {
        "id": "jpvVFNVnCUiG",
        "colab_type": "code",
        "colab": {
          "base_uri": "https://localhost:8080/",
          "height": 204
        },
        "outputId": "c9aa6925-9eaa-411e-e8a4-de9aaa738e63"
      },
      "source": [
        "# Realiza todo el flujo completo desde \"hola\", preguntando ahora con \"cuales servicios\" en vez de \"que servicios tienes\" y verás que el bot aprendió!\n",
        "conversar()"
      ],
      "execution_count": 121,
      "outputs": [
        {
          "output_type": "stream",
          "text": [
            "Dime algo hola\n",
            "Cómo estás?\n",
            "bien y usted\n",
            "Bien gracias. ¿Qué te trae hoy por acá?\n",
            "necesito ayuda\n",
            "que servicios tienes?\n",
            "Necesito ayuda\n",
            "Tenemos muchos servicios a tu disposición. En cual estás interesado?\n",
            "cuales servicios\n",
            "solicitud de créditos y tarjeta\n",
            "adiós\n"
          ],
          "name": "stdout"
        }
      ]
    },
    {
      "cell_type": "markdown",
      "metadata": {
        "id": "N-OILE_rCuup",
        "colab_type": "text"
      },
      "source": [
        "**Actividad**\n",
        "\n",
        "Entrena al bot para indicarle al usuario como solicitar los servicios. Para las tarjetas debe hacerlo por la página web, y para los créditos debe visitar una sucursal. El usuario debe indicar cual servicio quiere y el bot debe responderle según el servicio de interés. \n",
        "Recuerda entrenarlo para reconocer varias formas de preguntar lo mismo."
      ]
    }
  ]
}